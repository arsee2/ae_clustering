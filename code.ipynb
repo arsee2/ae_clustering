{
 "cells": [
  {
   "cell_type": "code",
   "execution_count": 1,
   "metadata": {},
   "outputs": [
    {
     "name": "stderr",
     "output_type": "stream",
     "text": [
      "C:\\Program Files (x86)\\Microsoft Visual Studio\\Shared\\Anaconda3_64\\lib\\site-packages\\h5py\\__init__.py:36: FutureWarning: Conversion of the second argument of issubdtype from `float` to `np.floating` is deprecated. In future, it will be treated as `np.float64 == np.dtype(float).type`.\n",
      "  from ._conv import register_converters as _register_converters\n",
      "Using TensorFlow backend.\n"
     ]
    }
   ],
   "source": [
    "#Imports\n",
    "import tensorflow as tf\n",
    "from keras.layers import Input, Dense, Dropout\n",
    "from tensorflow.examples.tutorials.mnist import input_data\n",
    "import keras\n",
    "import numpy as np\n",
    "from keras.models import Model\n",
    "import inspect\n",
    "import matplotlib.pyplot as plt\n",
    "from sklearn.cluster import KMeans\n",
    "import math\n",
    "from keras.models import load_model\n",
    "import numpy as np\n",
    "from keras import optimizers\n"
   ]
  },
  {
   "cell_type": "code",
   "execution_count": 2,
   "metadata": {},
   "outputs": [],
   "source": [
    "#Constants\n",
    "PRE_TRAIN_ITER= 100\n",
    "TRAIN_ITER=100\n",
    "BATCH_SIZE = 256\n",
    "LEARNING_RATE = 0.001\n",
    "num_of_test_images=10\n",
    "save_path = \"C:\\\\Users\\\\arsee\\\\Desktop\\dir2\\\\\"\n",
    "learn = False\n",
    "learning_rate =0.01\n",
    "momentum =1\n",
    "tol = 0.001"
   ]
  },
  {
   "cell_type": "code",
   "execution_count": 3,
   "metadata": {},
   "outputs": [
    {
     "name": "stdout",
     "output_type": "stream",
     "text": [
      "WARNING:tensorflow:From <ipython-input-3-0cb5d2ccda64>:2: read_data_sets (from tensorflow.contrib.learn.python.learn.datasets.mnist) is deprecated and will be removed in a future version.\n",
      "Instructions for updating:\n",
      "Please use alternatives such as official/mnist/dataset.py from tensorflow/models.\n",
      "WARNING:tensorflow:From C:\\Program Files (x86)\\Microsoft Visual Studio\\Shared\\Anaconda3_64\\lib\\site-packages\\tensorflow\\contrib\\learn\\python\\learn\\datasets\\mnist.py:260: maybe_download (from tensorflow.contrib.learn.python.learn.datasets.base) is deprecated and will be removed in a future version.\n",
      "Instructions for updating:\n",
      "Please write your own downloading logic.\n",
      "WARNING:tensorflow:From C:\\Program Files (x86)\\Microsoft Visual Studio\\Shared\\Anaconda3_64\\lib\\site-packages\\tensorflow\\contrib\\learn\\python\\learn\\datasets\\mnist.py:262: extract_images (from tensorflow.contrib.learn.python.learn.datasets.mnist) is deprecated and will be removed in a future version.\n",
      "Instructions for updating:\n",
      "Please use tf.data to implement this functionality.\n",
      "Extracting /tmp/MNIST_data\\train-images-idx3-ubyte.gz\n",
      "WARNING:tensorflow:From C:\\Program Files (x86)\\Microsoft Visual Studio\\Shared\\Anaconda3_64\\lib\\site-packages\\tensorflow\\contrib\\learn\\python\\learn\\datasets\\mnist.py:267: extract_labels (from tensorflow.contrib.learn.python.learn.datasets.mnist) is deprecated and will be removed in a future version.\n",
      "Instructions for updating:\n",
      "Please use tf.data to implement this functionality.\n",
      "Extracting /tmp/MNIST_data\\train-labels-idx1-ubyte.gz\n",
      "Extracting /tmp/MNIST_data\\t10k-images-idx3-ubyte.gz\n",
      "Extracting /tmp/MNIST_data\\t10k-labels-idx1-ubyte.gz\n",
      "WARNING:tensorflow:From C:\\Program Files (x86)\\Microsoft Visual Studio\\Shared\\Anaconda3_64\\lib\\site-packages\\tensorflow\\contrib\\learn\\python\\learn\\datasets\\mnist.py:290: DataSet.__init__ (from tensorflow.contrib.learn.python.learn.datasets.mnist) is deprecated and will be removed in a future version.\n",
      "Instructions for updating:\n",
      "Please use alternatives such as official/mnist/dataset.py from tensorflow/models.\n"
     ]
    }
   ],
   "source": [
    "#laod Data\n",
    "dataset = input_data.read_data_sets('/tmp/MNIST_data')\n",
    "train_x = dataset.train.images\n",
    "train_y =dataset.train.labels\n",
    "test_x =dataset.test.images\n",
    "trainx =train_x[:10000]\n",
    "trainy =train_y[:10000]"
   ]
  },
  {
   "cell_type": "code",
   "execution_count": 4,
   "metadata": {},
   "outputs": [],
   "source": [
    "def pre_train(encoder,decoder,data):\n",
    "    inp  = Input(shape=(len(data[0]),))\n",
    "    l1 = Dropout(0.2)(inp)\n",
    "    l2 = encoder(l1)\n",
    "    l3 = Dropout(0.2)(l2)\n",
    "    l4 = decoder(l3)    \n",
    "    autoencoder = Model(inp, l4)\n",
    "    autoencoder.compile(optimizer='adadelta', loss='mse')\n",
    "    autoencoder.fit(data, data,\n",
    "                epochs=PRE_TRAIN_ITER,\n",
    "                batch_size=BATCH_SIZE,\n",
    "                shuffle=True)\n",
    "    \n",
    "    return autoencoder\n",
    "    "
   ]
  },
  {
   "cell_type": "code",
   "execution_count": 5,
   "metadata": {
    "scrolled": true
   },
   "outputs": [],
   "source": [
    "input_img = Input(shape=(784,))\n",
    "if learn:\n",
    "    l1  = Dense(500, activation='relu')\n",
    "    l2  = Dense(500, activation='relu')\n",
    "    l3  = Dense(2000, activation='relu')\n",
    "    l4  = Dense(10, activation='sigmoid')\n",
    "\n",
    "    d4 =Dense(2000, activation='relu')\n",
    "    d3 =Dense(500, activation='relu')\n",
    "    d2 =Dense(500, activation='relu')\n",
    "    d1 =Dense(784, activation='sigmoid')\n",
    "\n",
    "    encoders = [l1,l2,l3,l4]\n",
    "    decoders = [d1,d2,d3,d4]\n",
    "\n",
    "\n",
    "    stacked_encoders =[input_img]\n",
    "    stacked_decoders = []\n",
    "    data = train_x\n",
    "\n",
    "\n",
    "    for i in range(0,4):\n",
    "        model= pre_train(encoders[i],decoders[i],data)\n",
    "        layers = [l for l in model.layers]\n",
    "        enc =layers[2]\n",
    "        #print(inspect.getmembers(enc, predicate=inspect.ismethod))\n",
    "        dec = layers[4]\n",
    "        enc = enc(stacked_encoders[i])\n",
    "        stacked_encoders.append(enc)\n",
    "        stacked_decoders.append(dec)\n",
    "\n",
    "        #data = enc.predict(train_x)\n",
    "        gem =Model(input_img,enc)\n",
    "        data = gem.predict(train_x)\n",
    "\n",
    "    encoder = stacked_encoders[4]\n",
    "    stacked_decoders[3]= stacked_decoders[3](encoder)\n",
    "    stacked_decoders[2]= stacked_decoders[2](stacked_decoders[3])\n",
    "    stacked_decoders[1]= stacked_decoders[1](stacked_decoders[2])\n",
    "    ae = stacked_decoders[0](stacked_decoders[1])\n",
    "\n",
    "\n",
    "    stacked_autoencoder = Model(input_img, ae)\n",
    "    stacked_autoencoder.compile(optimizer='adam', loss='mse')\n",
    "    stacked_autoencoder.fit(train_x, train_x,\n",
    "                    epochs=TRAIN_ITER,\n",
    "                    batch_size=BATCH_SIZE,\n",
    "                    shuffle=True)\n",
    "    \n",
    "    stacked_autoencoder.save(save_path+\"autoencoder\")"
   ]
  },
  {
   "cell_type": "code",
   "execution_count": 6,
   "metadata": {},
   "outputs": [],
   "source": [
    "stacked_autoencoder =load_model(save_path+\"autoencoder\")"
   ]
  },
  {
   "cell_type": "code",
   "execution_count": 7,
   "metadata": {},
   "outputs": [
    {
     "name": "stdout",
     "output_type": "stream",
     "text": [
      "Denosing Auto Encoder\n",
      "1 row - original images\n",
      "2 row - noised images\n",
      "3 row - recovered images\n"
     ]
    },
    {
     "data": {
      "image/png": "[encoded data removed]",
      "text/plain": [
       "<matplotlib.figure.Figure at 0x1f59971fe80>"
      ]
     },
     "metadata": {},
     "output_type": "display_data"
    }
   ],
   "source": [
    "random_images = np.random.randint(0, len(test_x), size=num_of_test_images)\n",
    "noised_images = test_x[random_images]+ np.random.normal(-0.15, 0.15, test_x[random_images].shape)\n",
    "results = stacked_autoencoder.predict( noised_images)\n",
    "\n",
    "# Comparing original images with reconstructions\n",
    "f, a = plt.subplots(3, num_of_test_images, figsize=(20, 4))\n",
    "for i in range(num_of_test_images):\n",
    "    a[0][i].imshow(np.reshape(dataset.test.images[random_images][i], (28, 28)))\n",
    "    a[1][i].imshow(np.reshape(noised_images[i], (28, 28)))\n",
    "    a[2][i].imshow(np.reshape(results[i], (28, 28)))\n",
    "print(\"Denosing Auto Encoder\")\n",
    "print(\"1 row - original images\")\n",
    "print(\"2 row - noised images\")\n",
    "print(\"3 row - recovered images\")\n",
    "plt.show()"
   ]
  },
  {
   "cell_type": "code",
   "execution_count": 8,
   "metadata": {},
   "outputs": [],
   "source": [
    "def cluster_acc(Y_pred, Y):\n",
    "    from sklearn.utils.linear_assignment_ import linear_assignment\n",
    "    assert Y_pred.size == Y.size\n",
    "    D = max(Y_pred.max(), Y.max()) + 1\n",
    "    w = np.zeros((D, D), dtype=np.int64)\n",
    "    for i in range(Y_pred.size):\n",
    "        w[Y_pred[i], Y[i]] += 1\n",
    "    ind = linear_assignment(w.max() - w)\n",
    "    return sum([w[i, j] for i, j in ind]) * 1.0 / Y_pred.size\n"
   ]
  },
  {
   "cell_type": "code",
   "execution_count": 9,
   "metadata": {},
   "outputs": [],
   "source": [
    "data=[]\n",
    "z =[]\n",
    "u=[]\n",
    "q =[[]]\n",
    "p=[[]]\n",
    "ff=[]"
   ]
  },
  {
   "cell_type": "code",
   "execution_count": 10,
   "metadata": {},
   "outputs": [],
   "source": [
    "def dist(p,q):\n",
    "    return np.linalg.norm(p-q)*np.linalg.norm(p-q)\n"
   ]
  },
  {
   "cell_type": "code",
   "execution_count": 11,
   "metadata": {},
   "outputs": [],
   "source": [
    "def soft_assignment(i,j):\n",
    "    ans =1\n",
    "    summ=0\n",
    "    for jj in range(len(u)):\n",
    "        summ+=1/(1+dist(z[i],u[jj]))\n",
    "    ans/=summ\n",
    "    ans/=(1+dist(z[i],u[j]))\n",
    "    return ans"
   ]
  },
  {
   "cell_type": "code",
   "execution_count": 12,
   "metadata": {},
   "outputs": [],
   "source": [
    "def fi(j):\n",
    "    ans =0\n",
    "    for i in range(len(q)):\n",
    "        ans+=q[i][j]\n",
    "    return ans "
   ]
  },
  {
   "cell_type": "code",
   "execution_count": 13,
   "metadata": {},
   "outputs": [],
   "source": [
    "def classify(X,centroids):\n",
    "    ans =[]\n",
    "    for i in X:\n",
    "        distances=[]\n",
    "        for j in centroids:\n",
    "            distances.append(dist(j,i))\n",
    "        ans.append(np.argmin(distances))\n",
    "            \n",
    "   \n",
    "    return np.array(ans)\n",
    "\n",
    "def classify2(X,centroids):\n",
    "    ans =[]\n",
    "    for i in range(len(X)) :\n",
    "        ans.append(np.argmax(p[i]))\n",
    "            \n",
    "   \n",
    "    return np.array(ans)\n",
    "def changes(x,y):\n",
    "    ans =0\n",
    "    for i in range(0,len(x)):\n",
    "        if x[i]!=y[i]:\n",
    "            ans+=1\n",
    "    return ans/len(x)"
   ]
  },
  {
   "cell_type": "code",
   "execution_count": 14,
   "metadata": {},
   "outputs": [],
   "source": [
    "\n",
    "def p_fun(i,j):\n",
    "    ans = q[i][j]**2/ff[j]\n",
    "    summ =0\n",
    "    for jj in range(len(q[0])):\n",
    "        summ+=q[i][jj]**2/ff[jj] \n",
    "    return ans/summ\n",
    "\n",
    "def L():\n",
    "    ans =0\n",
    "    for i in range(len(z)):\n",
    "        for j in range(len(u)):\n",
    "            ans+=p[i][j]*math.log2(p[i][j]/q[i][j])\n",
    "    return ans\n",
    "def dLdz(i):\n",
    "    summ=0\n",
    "    for j in range(len(u)):\n",
    "        summ+=1/(1+dist(z[i],u[j]))*(p[i][j]-q[i][j])*(z[i]-u[j])\n",
    "    return summ\n",
    "\n",
    "def dLdu(j):\n",
    "    summ=0\n",
    "    for i in range(len(z)):\n",
    "        summ+=1/(1+dist(z[i],u[j]))*(p[i][j]-q[i][j])*(z[i]-u[j])\n",
    "    return -2*summ\n",
    "\n",
    "epochs_retrain = 100\n",
    "def DEC(model,centroids,indata):\n",
    "    global q\n",
    "    global p\n",
    "    global z\n",
    "    global u\n",
    "    global data\n",
    "    global ff\n",
    "    data=indata\n",
    "    \n",
    "    z=model.predict(data)\n",
    "    u = centroids\n",
    "    prev =classify(z,u) \n",
    "    prev_grad_z=np.zeros(z.shape)\n",
    "    prev_grad_u =np.zeros(len(u))\n",
    "    q =np.zeros((len(z),len(u)))\n",
    "    ff = np.zeros(len(u))\n",
    "    \n",
    "    p =np.zeros((len(z),len(u)))\n",
    "    cnt =0\n",
    "    pr = model.predict(trainx)\n",
    "    ans = classify(pr,u)\n",
    "    print( 0,\"-perc\",cluster_acc(ans,trainy),\"-acc\")\n",
    "    while True:\n",
    "        \n",
    "        q =np.zeros((len(z),len(u)))\n",
    "        ff = np.zeros(len(u))\n",
    "    \n",
    "        p =np.zeros((len(z),len(u)))\n",
    "     \n",
    "        z=model.predict(data)\n",
    "        for i in range(len(z)):\n",
    "            for j in range(len(u)):\n",
    "                q[i][j]= soft_assignment(i,j)\n",
    "              \n",
    "        for j in range(len(u)):\n",
    "            ff[j]=fi(j)\n",
    "        for i in range(len(z)):\n",
    "            for j in range(len(u)):\n",
    "                p[i][j] =p_fun(i,j)\n",
    "       \n",
    "       \n",
    "        du = np.zeros(u.shape)\n",
    "       \n",
    "        \n",
    "        cnt+=1 \n",
    "        changed_data=z\n",
    "        for j in range(len(u)):\n",
    "            du[j] =LEARNING_RATE*(dLdu(j)*momentum-prev_grad_u[j]*(1-momentum))/math.sqrt(cnt)\n",
    "          \n",
    "            \n",
    "        for i in range(len(z)):\n",
    "            dz=(dLdz(i)*momentum-prev_grad_z[i]*(1-momentum))/math.sqrt(cnt)\n",
    "            changed_data[i]-=dz\n",
    "            prev_grad_z[i] = dz\n",
    "        \n",
    "       \n",
    "        model.fit(data, changed_data,\n",
    "                epochs=100,\n",
    "                batch_size=len(z),\n",
    "                verbose=False,\n",
    "                shuffle = True)\n",
    "        \n",
    "       \n",
    "          \n",
    "        for j in range(len(u)):    \n",
    "            u[j]=u[j]+du[j]\n",
    "        prev_grad_u = du\n",
    "           \n",
    "        new  =classify2(model.predict(trainx),u) \n",
    "        \n",
    "        perc = changes(prev,new)\n",
    "        prev = new\n",
    "        \n",
    "        \n",
    "        \n",
    "        pr = model.predict(trainx)\n",
    "        ans = classify2(pr,u)\n",
    "        print( perc,\"-ration of changed classes \",cluster_acc(ans,trainy),\"-accuracy\",L(),\"-KLD\")\n",
    "        if (perc<tol):\n",
    "            break\n",
    "        \n",
    "        \n",
    "        \n",
    "    return model,u "
   ]
  },
  {
   "cell_type": "markdown",
   "metadata": {},
   "source": []
  },
  {
   "cell_type": "code",
   "execution_count": 15,
   "metadata": {
    "scrolled": false
   },
   "outputs": [
    {
     "name": "stdout",
     "output_type": "stream",
     "text": [
      "_________________________________________________________________\n",
      "Layer (type)                 Output Shape              Param #   \n",
      "=================================================================\n",
      "input_1 (InputLayer)         (None, 784)               0         \n",
      "_________________________________________________________________\n",
      "dense_1 (Dense)              (None, 500)               392500    \n",
      "_________________________________________________________________\n",
      "dense_2 (Dense)              (None, 500)               250500    \n",
      "_________________________________________________________________\n",
      "dense_3 (Dense)              (None, 2000)              1002000   \n",
      "_________________________________________________________________\n",
      "dense_4 (Dense)              (None, 10)                20010     \n",
      "=================================================================\n",
      "Total params: 1,665,010\n",
      "Trainable params: 1,665,010\n",
      "Non-trainable params: 0\n",
      "_________________________________________________________________\n",
      "None\n",
      "0.5254 K-Means accuracy\n",
      "0.7983 AE+K-Means accuaracy\n"
     ]
    }
   ],
   "source": [
    "layers = stacked_autoencoder.layers\n",
    "enc  = layers[4](layers[3](layers[2](layers[1](input_img))))\n",
    "\n",
    "\n",
    "\n",
    "encoder = Model(input_img, enc)\n",
    "encoder.compile(optimizer=optimizers.SGD(lr=0.001), loss='mse')\n",
    "\n",
    "\n",
    "print(encoder.summary())\n",
    "\n",
    "\n",
    "kmeans_acc = kmeans = KMeans(n_clusters=10, random_state=0).fit(trainx)\n",
    "print(cluster_acc(kmeans.predict(trainx), trainy),\"K-Means accuracy\")\n",
    "\n",
    "kmeans = KMeans(n_clusters=10, random_state=0).fit(encoder.predict(trainx))\n",
    "print(cluster_acc(kmeans.predict(encoder.predict(trainx)),trainy),\"AE+K-Means accuaracy\")\n"
   ]
  },
  {
   "cell_type": "code",
   "execution_count": 16,
   "metadata": {
    "scrolled": false
   },
   "outputs": [
    {
     "name": "stdout",
     "output_type": "stream",
     "text": [
      "0 -perc 0.7983 -acc\n",
      "0.0292 -ration of changed classes  0.7996 -accuracy 149.41647909305468 -KLD\n",
      "0.0054 -ration of changed classes  0.7989 -accuracy 127.16622472927412 -KLD\n",
      "0.0042 -ration of changed classes  0.7997 -accuracy 112.4029334715286 -KLD\n",
      "0.0023 -ration of changed classes  0.8004 -accuracy 101.10658019085362 -KLD\n",
      "0.0026 -ration of changed classes  0.8012 -accuracy 91.94170789432405 -KLD\n",
      "0.0016 -ration of changed classes  0.8018 -accuracy 84.26083970384586 -KLD\n",
      "0.0033 -ration of changed classes  0.8027 -accuracy 77.68742233330835 -KLD\n",
      "0.0024 -ration of changed classes  0.8034 -accuracy 71.97755990753902 -KLD\n",
      "0.0025 -ration of changed classes  0.8034 -accuracy 66.9616962545367 -KLD\n",
      "0.0026 -ration of changed classes  0.8039 -accuracy 62.51597833464629 -KLD\n",
      "0.0022 -ration of changed classes  0.8047 -accuracy 58.54655239931434 -KLD\n",
      "0.0026 -ration of changed classes  0.8058 -accuracy 54.980369865365496 -KLD\n",
      "0.0023 -ration of changed classes  0.8066 -accuracy 51.759303689481534 -KLD\n",
      "0.0021 -ration of changed classes  0.8075 -accuracy 48.83630570165171 -KLD\n",
      "0.0014 -ration of changed classes  0.8078 -accuracy 46.17273784275307 -KLD\n",
      "0.0021 -ration of changed classes  0.8084 -accuracy 43.736494965229625 -KLD\n",
      "0.0016 -ration of changed classes  0.8085 -accuracy 41.5006386060536 -KLD\n",
      "0.0018 -ration of changed classes  0.8088 -accuracy 39.44235101888633 -KLD\n",
      "0.0013 -ration of changed classes  0.8095 -accuracy 37.542165456666346 -KLD\n",
      "0.0013 -ration of changed classes  0.81 -accuracy 35.7833446183985 -KLD\n",
      "0.0022 -ration of changed classes  0.8105 -accuracy 34.15143140803509 -KLD\n",
      "0.0019 -ration of changed classes  0.8112 -accuracy 32.63385977010663 -KLD\n",
      "0.0018 -ration of changed classes  0.8112 -accuracy 31.21965338339469 -KLD\n",
      "0.0012 -ration of changed classes  0.8119 -accuracy 29.89917740286945 -KLD\n",
      "0.0012 -ration of changed classes  0.8122 -accuracy 28.663938739444514 -KLD\n",
      "0.0021 -ration of changed classes  0.813 -accuracy 27.506425782148423 -KLD\n",
      "0.0012 -ration of changed classes  0.8134 -accuracy 26.419970558711583 -KLD\n",
      "0.0016 -ration of changed classes  0.8132 -accuracy 25.39862613226702 -KLD\n",
      "0.002 -ration of changed classes  0.8136 -accuracy 24.437084465795692 -KLD\n",
      "0.0013 -ration of changed classes  0.8141 -accuracy 23.530578066372634 -KLD\n",
      "0.0015 -ration of changed classes  0.8141 -accuracy 22.674827776648485 -KLD\n",
      "0.0015 -ration of changed classes  0.8146 -accuracy 21.86597780098948 -KLD\n",
      "0.0012 -ration of changed classes  0.815 -accuracy 21.10053831787906 -KLD\n",
      "0.001 -ration of changed classes  0.8155 -accuracy 20.375346868331594 -KLD\n",
      "0.0012 -ration of changed classes  0.8158 -accuracy 19.687541623396132 -KLD\n",
      "0.0008 -ration of changed classes  0.8156 -accuracy 19.034506815890122 -KLD\n",
      "0.8156 DEC accuaracy\n"
     ]
    }
   ],
   "source": [
    "improved_ae,centoids = DEC(encoder,kmeans.cluster_centers_,trainx)\n",
    "data = improved_ae.predict(trainx)\n",
    "ans = classify2(data,centoids)\n",
    "\n",
    "\n",
    "print(cluster_acc(ans,trainy),\"DEC accuaracy\")"
   ]
  },
  {
   "cell_type": "code",
   "execution_count": null,
   "metadata": {},
   "outputs": [],
   "source": []
  },
  {
   "cell_type": "code",
   "execution_count": null,
   "metadata": {},
   "outputs": [],
   "source": []
  },
  {
   "cell_type": "code",
   "execution_count": null,
   "metadata": {},
   "outputs": [],
   "source": []
  }
 ],
 "metadata": {
  "kernelspec": {
   "display_name": "Python 3",
   "language": "python",
   "name": "python3"
  },
  "language_info": {
   "codemirror_mode": {
    "name": "ipython",
    "version": 3
   },
   "file_extension": ".py",
   "mimetype": "text/x-python",
   "name": "python",
   "nbconvert_exporter": "python",
   "pygments_lexer": "ipython3",
   "version": "3.6.4"
  }
 },
 "nbformat": 4,
 "nbformat_minor": 2
}
